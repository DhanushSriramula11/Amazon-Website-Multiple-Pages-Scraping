{
  "nbformat": 4,
  "nbformat_minor": 0,
  "metadata": {
    "colab": {
      "provenance": [],
      "authorship_tag": "ABX9TyO5zHISItOdLJsJin1OC5PD",
      "include_colab_link": true
    },
    "kernelspec": {
      "name": "python3",
      "display_name": "Python 3"
    },
    "language_info": {
      "name": "python"
    }
  },
  "cells": [
    {
      "cell_type": "markdown",
      "metadata": {
        "id": "view-in-github",
        "colab_type": "text"
      },
      "source": [
        "<a href=\"https://colab.research.google.com/github/dhana51/Amazon-Website-Multiple-Pages-Scraping/blob/main/Amazon%20Webscrapping.ipynb\" target=\"_parent\"><img src=\"https://colab.research.google.com/assets/colab-badge.svg\" alt=\"Open In Colab\"/></a>"
      ]
    },
    {
      "cell_type": "markdown",
      "source": [
        "# Part 1: Scraping all pages details"
      ],
      "metadata": {
        "id": "HRnfFuUZtV3q"
      }
    },
    {
      "cell_type": "code",
      "execution_count": 2,
      "metadata": {
        "colab": {
          "base_uri": "https://localhost:8080/"
        },
        "id": "co9xd_c9WF25",
        "outputId": "a30910f7-3de7-4520-91f0-36865dfe28f9"
      },
      "outputs": [
        {
          "output_type": "execute_result",
          "data": {
            "text/plain": [
              "14"
            ]
          },
          "metadata": {},
          "execution_count": 2
        }
      ],
      "source": [
        "user_agents = [\n",
        "   'Mozilla/5.0 (Windows NT 10.0; Win64; x64) AppleWebKit/537.36 (KHTML, like Gecko) Chrome/58.0.3029.110 Safari/537.3',\n",
        "   'Mozilla/5.0 (Windows NT 6.1; WOW64) AppleWebKit/537.36 (KHTML, like Gecko) Chrome/58.0.3029.110 Safari/537.3',\n",
        "   'Mozilla/5.0 (Windows NT 10.0; Win64; x64) AppleWebKit/537.36 (KHTML, like Gecko) Chrome/60.0.3112.101 Safari/537.36',\n",
        "   'Mozilla/5.0 (Windows NT 10.0; WOW64) AppleWebKit/537.36 (KHTML, like Gecko) Chrome/60.0.3112.101 Safari/537.36',\n",
        "   'Mozilla/5.0 (Windows NT 10.0; Win64; x64) AppleWebKit/537.36 (KHTML, like Gecko) Chrome/63.0.3239.132 Safari/537.36',\n",
        "   'Mozilla/5.0 (Windows NT 10.0; WOW64) AppleWebKit/537.36 (KHTML, like Gecko) Chrome/63.0.3239.132 Safari/537.36',\n",
        "   'Mozilla/5.0 (Windows NT 10.0; Win64; x64) AppleWebKit/537.36 (KHTML, like Gecko) Chrome/79.0.3945.130 Safari/537.36',\n",
        "   'Mozilla/5.0 (Windows NT 10.0; WOW64) AppleWebKit/537.36 (KHTML, like Gecko) Chrome/79.0.3945.130 Safari/537.36',\n",
        "   'Mozilla/5.0 (Windows NT 10.0; Win64; x64) AppleWebKit/537.36 (KHTML, like Gecko) Chrome/87.0.4280.141 Safari/537.36',\n",
        "   'Mozilla/5.0 (Windows NT 10.0; WOW64) AppleWebKit/537.36 (KHTML, like Gecko) Chrome/87.0.4280.141 Safari/537.36',\n",
        "   'Mozilla/5.0 (Windows NT 10.0; Win64; x64) AppleWebKit/537.36 (KHTML, like Gecko) Chrome/89.0.4389.82 Safari/537.36',\n",
        "   'Mozilla/5.0 (Windows NT 10.0; WOW64) AppleWebKit/537.36 (KHTML, like Gecko) Chrome/89.0.4389.82 Safari/537.36',\n",
        "   'Mozilla/5.0 (Windows NT 10.0; Win64; x64) AppleWebKit/537.36 (KHTML, like Gecko) Chrome/92.0.4515.131 Safari/537.36',\n",
        "   'Mozilla/5.0 (Windows NT 10.0; WOW64) AppleWebKit/537.36 (KHTML, like Gecko) Chrome/92.0.4515.131 Safari/537.36'\n",
        "]\n",
        "len(user_agents)"
      ]
    },
    {
      "cell_type": "code",
      "source": [
        "import requests\n",
        "from bs4 import BeautifulSoup\n",
        "import csv\n",
        "import pandas as pd\n",
        "amazon_df=pd.DataFrame(columns=['product_name','product_url','product_price','product_rating','product_review_count'])\n",
        "base_url = \"https://www.amazon.in/s?k=bags&crid=2M096C61O4MLT&qid=1653308124&sprefix=ba%2Caps%2C283&ref=sr_pg_\"\n",
        "num_pages = 20\n",
        "count=0\n",
        "for user in user_agents:\n",
        "    HEADERS=({'user-agent':user,'Accepted-Language':'eng-us, en;q=0.5'})\n",
        "    for page in range(1, num_pages + 1):\n",
        "        if(page==1):\n",
        "            base_url='https://www.amazon.in/s?k=bags&crid=Z2X6MSQT2UK2&sprefix=bags%2Caps%2C298&ref=nb_sb_noss_1'\n",
        "            response = requests.get(base_url ,HEADERS)\n",
        "        else:\n",
        "            base_url='https://www.amazon.in/s?k=bags&page='+str(page)+'&crid=Z2X6MSQT2UK2&qid=1679389815&sprefix=bags%2Caps%2C298&ref=sr_pg_'+str(page)\n",
        "            response = requests.get(base_url + str(page),HEADERS)\n",
        "        soup = BeautifulSoup(response.content, \"html.parser\")\n",
        "        products = soup.find_all(\"div\", {\"data-component-type\": \"s-search-result\"})\n",
        "        for product in products:\n",
        "            url = \"https://www.amazon.in\" + product.find(\"a\", {\"class\": \"a-link-normal\"})[\"href\"]\n",
        "            name = product.find(\"h2\", {\"class\": \"a-size-mini\"}).text.strip()\n",
        "            if(name not in amazon_df.values):\n",
        "                try:\n",
        "                    count+=1\n",
        "                    print('HIT:',count)\n",
        "                    price = product.find(\"span\", {\"class\": \"a-price-whole\"}).text.strip()\n",
        "                    rating = product.find(\"span\", {\"class\": \"a-icon-alt\"}).text.strip().split(\" \")[0]\n",
        "                    reviews = product.find(\"span\", {\"class\": \"a-size-base s-underline-text\"}).text.strip('()')\n",
        "                    data=[name,url,price,rating,reviews]\n",
        "                    print(data)\n",
        "                    amazon_df.loc[len(amazon_df.index)] = data\n",
        "                except:\n",
        "                    pass\n",
        "print(\"Scraping complete!\")"
      ],
      "metadata": {
        "id": "to8Sagy-WHgs"
      },
      "execution_count": null,
      "outputs": []
    },
    {
      "cell_type": "code",
      "source": [
        "amazon_df.count"
      ],
      "metadata": {
        "id": "be3IMIAZWND5"
      },
      "execution_count": null,
      "outputs": []
    },
    {
      "cell_type": "code",
      "source": [
        "amazon_df.to_csv('amazon_bags.csv')"
      ],
      "metadata": {
        "id": "X_3W4cQnWQKy"
      },
      "execution_count": 22,
      "outputs": []
    },
    {
      "cell_type": "markdown",
      "source": [
        "## Part 2: Scraping Individual pages"
      ],
      "metadata": {
        "id": "7VBOnoDwslbi"
      }
    },
    {
      "cell_type": "code",
      "source": [
        "amazon_df"
      ],
      "metadata": {
        "colab": {
          "base_uri": "https://localhost:8080/",
          "height": 554
        },
        "id": "ubA_HhS0WZV0",
        "outputId": "1d272f74-888a-4808-f295-ece0204eb7ba"
      },
      "execution_count": 5,
      "outputs": [
        {
          "output_type": "execute_result",
          "data": {
            "text/plain": [
              "                                          product_name  \\\n",
              "0    American Tourister 32 Ltrs Black Casual Backpa...   \n",
              "1    Wesley Milestone 2.0 Casual Waterproof Laptop ...   \n",
              "2    ADISA 15.6 inch Laptop Backpack Office Bag Col...   \n",
              "3    Lavie Sport Lino Large Size 63 cms Wheel Duffl...   \n",
              "4            Skybags Brat Black 46 Cms Casual Backpack   \n",
              "..                                                 ...   \n",
              "254    Wildcraft Hopper 1.0 Laptop Backpack 24L (Blue)   \n",
              "255  Arctic Hunter Laptop Backpack, Premium Busines...   \n",
              "256  SAEKOS Minnie pop it Bag | Fidget Popit Stylis...   \n",
              "257  Gear Bounce 27 Ltrs Water Resistant School Bag...   \n",
              "258  ADISA 32L Large Laptop Backpack Office Bag Col...   \n",
              "\n",
              "                                           product_url product_price  \\\n",
              "0    https://www.amazon.in/gp/bestsellers/luggage/r...         1,199   \n",
              "1    https://www.amazon.in/gp/bestsellers/computers...           565   \n",
              "2    https://www.amazon.in/ADISA-Laptop-Backpack-Of...           499   \n",
              "3    https://www.amazon.in/Lavie-Sport-Duffle-Lugga...           949   \n",
              "4    https://www.amazon.in/Skybags-Brat-Black-Casua...           659   \n",
              "..                                                 ...           ...   \n",
              "254  https://www.amazon.in/Wildcraft-Hopper-Laptop-...         1,390   \n",
              "255  https://www.amazon.in/Backpack-Business-Scratc...         5,699   \n",
              "256  https://www.amazon.in/SAEKOS-Stylish-Backpack-...           389   \n",
              "257  https://www.amazon.in/Gear-Bounce-Backpack-Gre...           629   \n",
              "258  https://www.amazon.in/ADISA-Laptop-Backpack-Of...           599   \n",
              "\n",
              "    product_rating product_review_count  \n",
              "0              4.0               52,313  \n",
              "1              4.3                9,817  \n",
              "2              3.8                  567  \n",
              "3              3.9                6,308  \n",
              "4              4.1                3,778  \n",
              "..             ...                  ...  \n",
              "254            4.5                    2  \n",
              "255            4.3                   65  \n",
              "256            4.0                   22  \n",
              "257            3.6                  380  \n",
              "258            4.4                    5  \n",
              "\n",
              "[259 rows x 5 columns]"
            ],
            "text/html": [
              "\n",
              "  <div id=\"df-4dc05311-a3e9-41c7-8603-1b38bc85508b\">\n",
              "    <div class=\"colab-df-container\">\n",
              "      <div>\n",
              "<style scoped>\n",
              "    .dataframe tbody tr th:only-of-type {\n",
              "        vertical-align: middle;\n",
              "    }\n",
              "\n",
              "    .dataframe tbody tr th {\n",
              "        vertical-align: top;\n",
              "    }\n",
              "\n",
              "    .dataframe thead th {\n",
              "        text-align: right;\n",
              "    }\n",
              "</style>\n",
              "<table border=\"1\" class=\"dataframe\">\n",
              "  <thead>\n",
              "    <tr style=\"text-align: right;\">\n",
              "      <th></th>\n",
              "      <th>product_name</th>\n",
              "      <th>product_url</th>\n",
              "      <th>product_price</th>\n",
              "      <th>product_rating</th>\n",
              "      <th>product_review_count</th>\n",
              "    </tr>\n",
              "  </thead>\n",
              "  <tbody>\n",
              "    <tr>\n",
              "      <th>0</th>\n",
              "      <td>American Tourister 32 Ltrs Black Casual Backpa...</td>\n",
              "      <td>https://www.amazon.in/gp/bestsellers/luggage/r...</td>\n",
              "      <td>1,199</td>\n",
              "      <td>4.0</td>\n",
              "      <td>52,313</td>\n",
              "    </tr>\n",
              "    <tr>\n",
              "      <th>1</th>\n",
              "      <td>Wesley Milestone 2.0 Casual Waterproof Laptop ...</td>\n",
              "      <td>https://www.amazon.in/gp/bestsellers/computers...</td>\n",
              "      <td>565</td>\n",
              "      <td>4.3</td>\n",
              "      <td>9,817</td>\n",
              "    </tr>\n",
              "    <tr>\n",
              "      <th>2</th>\n",
              "      <td>ADISA 15.6 inch Laptop Backpack Office Bag Col...</td>\n",
              "      <td>https://www.amazon.in/ADISA-Laptop-Backpack-Of...</td>\n",
              "      <td>499</td>\n",
              "      <td>3.8</td>\n",
              "      <td>567</td>\n",
              "    </tr>\n",
              "    <tr>\n",
              "      <th>3</th>\n",
              "      <td>Lavie Sport Lino Large Size 63 cms Wheel Duffl...</td>\n",
              "      <td>https://www.amazon.in/Lavie-Sport-Duffle-Lugga...</td>\n",
              "      <td>949</td>\n",
              "      <td>3.9</td>\n",
              "      <td>6,308</td>\n",
              "    </tr>\n",
              "    <tr>\n",
              "      <th>4</th>\n",
              "      <td>Skybags Brat Black 46 Cms Casual Backpack</td>\n",
              "      <td>https://www.amazon.in/Skybags-Brat-Black-Casua...</td>\n",
              "      <td>659</td>\n",
              "      <td>4.1</td>\n",
              "      <td>3,778</td>\n",
              "    </tr>\n",
              "    <tr>\n",
              "      <th>...</th>\n",
              "      <td>...</td>\n",
              "      <td>...</td>\n",
              "      <td>...</td>\n",
              "      <td>...</td>\n",
              "      <td>...</td>\n",
              "    </tr>\n",
              "    <tr>\n",
              "      <th>254</th>\n",
              "      <td>Wildcraft Hopper 1.0 Laptop Backpack 24L (Blue)</td>\n",
              "      <td>https://www.amazon.in/Wildcraft-Hopper-Laptop-...</td>\n",
              "      <td>1,390</td>\n",
              "      <td>4.5</td>\n",
              "      <td>2</td>\n",
              "    </tr>\n",
              "    <tr>\n",
              "      <th>255</th>\n",
              "      <td>Arctic Hunter Laptop Backpack, Premium Busines...</td>\n",
              "      <td>https://www.amazon.in/Backpack-Business-Scratc...</td>\n",
              "      <td>5,699</td>\n",
              "      <td>4.3</td>\n",
              "      <td>65</td>\n",
              "    </tr>\n",
              "    <tr>\n",
              "      <th>256</th>\n",
              "      <td>SAEKOS Minnie pop it Bag | Fidget Popit Stylis...</td>\n",
              "      <td>https://www.amazon.in/SAEKOS-Stylish-Backpack-...</td>\n",
              "      <td>389</td>\n",
              "      <td>4.0</td>\n",
              "      <td>22</td>\n",
              "    </tr>\n",
              "    <tr>\n",
              "      <th>257</th>\n",
              "      <td>Gear Bounce 27 Ltrs Water Resistant School Bag...</td>\n",
              "      <td>https://www.amazon.in/Gear-Bounce-Backpack-Gre...</td>\n",
              "      <td>629</td>\n",
              "      <td>3.6</td>\n",
              "      <td>380</td>\n",
              "    </tr>\n",
              "    <tr>\n",
              "      <th>258</th>\n",
              "      <td>ADISA 32L Large Laptop Backpack Office Bag Col...</td>\n",
              "      <td>https://www.amazon.in/ADISA-Laptop-Backpack-Of...</td>\n",
              "      <td>599</td>\n",
              "      <td>4.4</td>\n",
              "      <td>5</td>\n",
              "    </tr>\n",
              "  </tbody>\n",
              "</table>\n",
              "<p>259 rows × 5 columns</p>\n",
              "</div>\n",
              "      <button class=\"colab-df-convert\" onclick=\"convertToInteractive('df-4dc05311-a3e9-41c7-8603-1b38bc85508b')\"\n",
              "              title=\"Convert this dataframe to an interactive table.\"\n",
              "              style=\"display:none;\">\n",
              "        \n",
              "  <svg xmlns=\"http://www.w3.org/2000/svg\" height=\"24px\"viewBox=\"0 0 24 24\"\n",
              "       width=\"24px\">\n",
              "    <path d=\"M0 0h24v24H0V0z\" fill=\"none\"/>\n",
              "    <path d=\"M18.56 5.44l.94 2.06.94-2.06 2.06-.94-2.06-.94-.94-2.06-.94 2.06-2.06.94zm-11 1L8.5 8.5l.94-2.06 2.06-.94-2.06-.94L8.5 2.5l-.94 2.06-2.06.94zm10 10l.94 2.06.94-2.06 2.06-.94-2.06-.94-.94-2.06-.94 2.06-2.06.94z\"/><path d=\"M17.41 7.96l-1.37-1.37c-.4-.4-.92-.59-1.43-.59-.52 0-1.04.2-1.43.59L10.3 9.45l-7.72 7.72c-.78.78-.78 2.05 0 2.83L4 21.41c.39.39.9.59 1.41.59.51 0 1.02-.2 1.41-.59l7.78-7.78 2.81-2.81c.8-.78.8-2.07 0-2.86zM5.41 20L4 18.59l7.72-7.72 1.47 1.35L5.41 20z\"/>\n",
              "  </svg>\n",
              "      </button>\n",
              "      \n",
              "  <style>\n",
              "    .colab-df-container {\n",
              "      display:flex;\n",
              "      flex-wrap:wrap;\n",
              "      gap: 12px;\n",
              "    }\n",
              "\n",
              "    .colab-df-convert {\n",
              "      background-color: #E8F0FE;\n",
              "      border: none;\n",
              "      border-radius: 50%;\n",
              "      cursor: pointer;\n",
              "      display: none;\n",
              "      fill: #1967D2;\n",
              "      height: 32px;\n",
              "      padding: 0 0 0 0;\n",
              "      width: 32px;\n",
              "    }\n",
              "\n",
              "    .colab-df-convert:hover {\n",
              "      background-color: #E2EBFA;\n",
              "      box-shadow: 0px 1px 2px rgba(60, 64, 67, 0.3), 0px 1px 3px 1px rgba(60, 64, 67, 0.15);\n",
              "      fill: #174EA6;\n",
              "    }\n",
              "\n",
              "    [theme=dark] .colab-df-convert {\n",
              "      background-color: #3B4455;\n",
              "      fill: #D2E3FC;\n",
              "    }\n",
              "\n",
              "    [theme=dark] .colab-df-convert:hover {\n",
              "      background-color: #434B5C;\n",
              "      box-shadow: 0px 1px 3px 1px rgba(0, 0, 0, 0.15);\n",
              "      filter: drop-shadow(0px 1px 2px rgba(0, 0, 0, 0.3));\n",
              "      fill: #FFFFFF;\n",
              "    }\n",
              "  </style>\n",
              "\n",
              "      <script>\n",
              "        const buttonEl =\n",
              "          document.querySelector('#df-4dc05311-a3e9-41c7-8603-1b38bc85508b button.colab-df-convert');\n",
              "        buttonEl.style.display =\n",
              "          google.colab.kernel.accessAllowed ? 'block' : 'none';\n",
              "\n",
              "        async function convertToInteractive(key) {\n",
              "          const element = document.querySelector('#df-4dc05311-a3e9-41c7-8603-1b38bc85508b');\n",
              "          const dataTable =\n",
              "            await google.colab.kernel.invokeFunction('convertToInteractive',\n",
              "                                                     [key], {});\n",
              "          if (!dataTable) return;\n",
              "\n",
              "          const docLinkHtml = 'Like what you see? Visit the ' +\n",
              "            '<a target=\"_blank\" href=https://colab.research.google.com/notebooks/data_table.ipynb>data table notebook</a>'\n",
              "            + ' to learn more about interactive tables.';\n",
              "          element.innerHTML = '';\n",
              "          dataTable['output_type'] = 'display_data';\n",
              "          await google.colab.output.renderOutput(dataTable, element);\n",
              "          const docLink = document.createElement('div');\n",
              "          docLink.innerHTML = docLinkHtml;\n",
              "          element.appendChild(docLink);\n",
              "        }\n",
              "      </script>\n",
              "    </div>\n",
              "  </div>\n",
              "  "
            ]
          },
          "metadata": {},
          "execution_count": 5
        }
      ]
    },
    {
      "cell_type": "markdown",
      "source": [],
      "metadata": {
        "id": "V84fBOXgtrbr"
      }
    },
    {
      "cell_type": "code",
      "source": [
        "def get_description(soup):\n",
        "    try:\n",
        "        description=soup.find('ul',{\"class\":\"a-unordered-list a-vertical a-spacing-mini\"}).text\n",
        "        return description\n",
        "    except:\n",
        "        description=''\n",
        "        return description\n",
        "def get_product_description(soup):\n",
        "    try:\n",
        "        product_description=soup.find('div',{\"id\":\"productDescription\"}).text\n",
        "        return product_description\n",
        "    except:\n",
        "        product_description=''\n",
        "        return product_description\n",
        "def get_asin(soup):\n",
        "    try:\n",
        "        asin = soup.find('input', {'id': 'ASIN'})['value']\n",
        "        return asin\n",
        "    except:\n",
        "        asin=''\n",
        "        return asin"
      ],
      "metadata": {
        "id": "v_8_3nxhWbHJ"
      },
      "execution_count": 6,
      "outputs": []
    },
    {
      "cell_type": "code",
      "source": [
        "import time\n",
        "count=0\n",
        "no_of_attempts=10\n",
        "ind_urls=amazon_df['product_url']\n",
        "manufacturer_company=amazon_df['product_name']\n",
        "description_list=[]\n",
        "product_description_list=[]\n",
        "asin_list=[]\n",
        "manufacturer_list=[]\n",
        "for count,link in enumerate(ind_urls):\n",
        "  try:\n",
        "    response = requests.get(link)\n",
        "    attempt=0\n",
        "    while(response.status_code!=200 and attempt<=no_of_attempts):\n",
        "        response = requests.get(link)\n",
        "        time.sleep(2)\n",
        "        attempt+=1\n",
        "    if(attempt!=10):\n",
        "      count+=1\n",
        "    print('HIT:',count)\n",
        "    new_soup = BeautifulSoup(response.content, \"html.parser\")\n",
        "    print(count)\n",
        "    description=get_description(new_soup)\n",
        "    product_description=get_product_description(new_soup)\n",
        "    asin=get_asin(new_soup)\n",
        "    manufacturer=manufacturer_company[count].split()[0]\n",
        "    manufacturer_list.append(manufacturer)\n",
        "    description_list.append(description)\n",
        "    product_description_list.append(product_description)\n",
        "    asin_list.append(asin)\n",
        "  except:\n",
        "      pass"
      ],
      "metadata": {
        "id": "FqKiSo3IWhV2"
      },
      "execution_count": null,
      "outputs": []
    },
    {
      "cell_type": "code",
      "source": [
        "new_df=amazon_df[:len(asin_list)]"
      ],
      "metadata": {
        "id": "L7ugZc4pyz6a"
      },
      "execution_count": 15,
      "outputs": []
    },
    {
      "cell_type": "code",
      "source": [
        "new_df['asin']=asin_list\n",
        "new_df['manufacturer']=manufacturer_list\n",
        "new_df['description']=description_list\n",
        "new_df['product_descritpion']=product_description_list"
      ],
      "metadata": {
        "colab": {
          "base_uri": "https://localhost:8080/"
        },
        "id": "81YbdI0_y7n0",
        "outputId": "283bad50-6b93-491e-aee1-6c1148fae768"
      },
      "execution_count": 16,
      "outputs": [
        {
          "output_type": "stream",
          "name": "stderr",
          "text": [
            "<ipython-input-16-5c725a7a997f>:1: SettingWithCopyWarning: \n",
            "A value is trying to be set on a copy of a slice from a DataFrame.\n",
            "Try using .loc[row_indexer,col_indexer] = value instead\n",
            "\n",
            "See the caveats in the documentation: https://pandas.pydata.org/pandas-docs/stable/user_guide/indexing.html#returning-a-view-versus-a-copy\n",
            "  new_df['asin']=asin_list\n",
            "<ipython-input-16-5c725a7a997f>:2: SettingWithCopyWarning: \n",
            "A value is trying to be set on a copy of a slice from a DataFrame.\n",
            "Try using .loc[row_indexer,col_indexer] = value instead\n",
            "\n",
            "See the caveats in the documentation: https://pandas.pydata.org/pandas-docs/stable/user_guide/indexing.html#returning-a-view-versus-a-copy\n",
            "  new_df['manufacturer']=manufacturer_list\n",
            "<ipython-input-16-5c725a7a997f>:3: SettingWithCopyWarning: \n",
            "A value is trying to be set on a copy of a slice from a DataFrame.\n",
            "Try using .loc[row_indexer,col_indexer] = value instead\n",
            "\n",
            "See the caveats in the documentation: https://pandas.pydata.org/pandas-docs/stable/user_guide/indexing.html#returning-a-view-versus-a-copy\n",
            "  new_df['description']=description_list\n",
            "<ipython-input-16-5c725a7a997f>:4: SettingWithCopyWarning: \n",
            "A value is trying to be set on a copy of a slice from a DataFrame.\n",
            "Try using .loc[row_indexer,col_indexer] = value instead\n",
            "\n",
            "See the caveats in the documentation: https://pandas.pydata.org/pandas-docs/stable/user_guide/indexing.html#returning-a-view-versus-a-copy\n",
            "  new_df['product_descritpion']=product_description_list\n"
          ]
        }
      ]
    },
    {
      "cell_type": "code",
      "source": [
        "new_df=new_df[new_df!=''].dropna()"
      ],
      "metadata": {
        "id": "nn6mQpmDzAYG"
      },
      "execution_count": 24,
      "outputs": []
    },
    {
      "cell_type": "code",
      "source": [
        "new_df.to_csv('final_amazon_bags.csv')"
      ],
      "metadata": {
        "id": "Q16EY0yDzM0s"
      },
      "execution_count": 25,
      "outputs": []
    }
  ]
}